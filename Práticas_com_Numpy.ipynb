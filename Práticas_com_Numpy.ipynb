{
  "nbformat": 4,
  "nbformat_minor": 0,
  "metadata": {
    "colab": {
      "provenance": [],
      "authorship_tag": "ABX9TyPU3eX0xrAZMYSUQNa5Dp5D",
      "include_colab_link": true
    },
    "kernelspec": {
      "name": "python3",
      "display_name": "Python 3"
    },
    "language_info": {
      "name": "python"
    }
  },
  "cells": [
    {
      "cell_type": "markdown",
      "metadata": {
        "id": "view-in-github",
        "colab_type": "text"
      },
      "source": [
        "<a href=\"https://colab.research.google.com/github/COAP230023/atividade-praticas-em-numpy-LeandroDeFRusso/blob/main/Pr%C3%A1ticas_com_Numpy.ipynb\" target=\"_parent\"><img src=\"https://colab.research.google.com/assets/colab-badge.svg\" alt=\"Open In Colab\"/></a>"
      ]
    },
    {
      "cell_type": "code",
      "source": [
        "import numpy as np\n"
      ],
      "metadata": {
        "id": "-BYDXksfRk16"
      },
      "execution_count": 1,
      "outputs": []
    },
    {
      "cell_type": "code",
      "execution_count": 2,
      "metadata": {
        "colab": {
          "base_uri": "https://localhost:8080/"
        },
        "id": "es0AAynR_Mgu",
        "outputId": "90cf62c2-e1af-4bc4-a93a-6a18e0aea321"
      },
      "outputs": [
        {
          "output_type": "stream",
          "name": "stdout",
          "text": [
            "[0. 0. 0. 0. 0. 0. 0. 0. 0. 0.]\n",
            "float64\n",
            "(10,)\n"
          ]
        }
      ],
      "source": [
        "#1\n",
        "\n",
        "array = np.zeros(10)\n",
        "\n",
        "print(array)\n",
        "\n",
        "print(array.dtype)\n",
        "print(array.shape)\n"
      ]
    },
    {
      "cell_type": "code",
      "source": [
        "#2\n",
        "\n",
        "array = np.ones(10)\n",
        "\n",
        "array_float = array.astype(np.float64)\n",
        "\n",
        "print(array)\n",
        "print(array_float)\n",
        "print(array_float.dtype)"
      ],
      "metadata": {
        "colab": {
          "base_uri": "https://localhost:8080/"
        },
        "id": "XSittnbqBjIL",
        "outputId": "e78d8ff3-c26e-419d-acf8-6e04d30dfe2e"
      },
      "execution_count": 3,
      "outputs": [
        {
          "output_type": "stream",
          "name": "stdout",
          "text": [
            "[1. 1. 1. 1. 1. 1. 1. 1. 1. 1.]\n",
            "[1. 1. 1. 1. 1. 1. 1. 1. 1. 1.]\n",
            "float64\n"
          ]
        }
      ]
    },
    {
      "cell_type": "code",
      "source": [
        "#3\n",
        "\n",
        "array = np.arange(0, 10)\n",
        "\n",
        "print(array)"
      ],
      "metadata": {
        "colab": {
          "base_uri": "https://localhost:8080/"
        },
        "id": "GIQHlNSzGXKe",
        "outputId": "907bb581-423c-4505-c0cd-49966e8813b2"
      },
      "execution_count": 4,
      "outputs": [
        {
          "output_type": "stream",
          "name": "stdout",
          "text": [
            "[0 1 2 3 4 5 6 7 8 9]\n"
          ]
        }
      ]
    },
    {
      "cell_type": "code",
      "source": [
        "#4\n",
        "\n",
        "array = np.reshape(np.arange(0, 9), (3, 3))\n",
        "\n",
        "print(array)"
      ],
      "metadata": {
        "id": "VW1W3a3eHZMN",
        "colab": {
          "base_uri": "https://localhost:8080/"
        },
        "outputId": "d240a7c0-2a3d-4cda-bd5c-3b8ab1fe88c0"
      },
      "execution_count": 5,
      "outputs": [
        {
          "output_type": "stream",
          "name": "stdout",
          "text": [
            "[[0 1 2]\n",
            " [3 4 5]\n",
            " [6 7 8]]\n"
          ]
        }
      ]
    },
    {
      "cell_type": "code",
      "source": [
        "#5\n",
        "\n",
        "valores = np.array([1, 2, 0, 0, 4, 0])\n",
        "indice = np.nonzero(valores)\n",
        "\n",
        "print(indice)"
      ],
      "metadata": {
        "colab": {
          "base_uri": "https://localhost:8080/"
        },
        "id": "UHr7SJjNPr53",
        "outputId": "8c747e62-c50d-45c0-edad-be08878785ff"
      },
      "execution_count": 6,
      "outputs": [
        {
          "output_type": "stream",
          "name": "stdout",
          "text": [
            "(array([0, 1, 4]),)\n"
          ]
        }
      ]
    },
    {
      "cell_type": "code",
      "source": [
        "#6\n",
        "\n",
        "array = np.linspace(0, 1, 12)\n",
        "\n",
        "print(array)"
      ],
      "metadata": {
        "colab": {
          "base_uri": "https://localhost:8080/"
        },
        "id": "pvCSAhh2PsBw",
        "outputId": "305b3f2c-7f7e-4586-832b-a14f67c9a83e"
      },
      "execution_count": 7,
      "outputs": [
        {
          "output_type": "stream",
          "name": "stdout",
          "text": [
            "[0.         0.09090909 0.18181818 0.27272727 0.36363636 0.45454545\n",
            " 0.54545455 0.63636364 0.72727273 0.81818182 0.90909091 1.        ]\n"
          ]
        }
      ]
    },
    {
      "cell_type": "code",
      "source": [
        "#7\n",
        "\n",
        "identidade = np.eye(5)\n",
        "\n",
        "print(identidade)"
      ],
      "metadata": {
        "colab": {
          "base_uri": "https://localhost:8080/"
        },
        "id": "TSz6Py9xPsGK",
        "outputId": "6c179b42-44da-4b7e-ff7e-b29941fc87f1"
      },
      "execution_count": 8,
      "outputs": [
        {
          "output_type": "stream",
          "name": "stdout",
          "text": [
            "[[1. 0. 0. 0. 0.]\n",
            " [0. 1. 0. 0. 0.]\n",
            " [0. 0. 1. 0. 0.]\n",
            " [0. 0. 0. 1. 0.]\n",
            " [0. 0. 0. 0. 1.]]\n"
          ]
        }
      ]
    },
    {
      "cell_type": "code",
      "source": [
        "#8\n",
        "\n",
        "aleatorios = np.random.default_rng(42)\n",
        "array = aleatorios.random((3, 3, 3))\n",
        "\n",
        "print(array)"
      ],
      "metadata": {
        "colab": {
          "base_uri": "https://localhost:8080/"
        },
        "id": "vrNGzYllPsIw",
        "outputId": "b47f1cd1-84f8-4de7-8a5a-87968935a9ef"
      },
      "execution_count": 9,
      "outputs": [
        {
          "output_type": "stream",
          "name": "stdout",
          "text": [
            "[[[0.77395605 0.43887844 0.85859792]\n",
            "  [0.69736803 0.09417735 0.97562235]\n",
            "  [0.7611397  0.78606431 0.12811363]]\n",
            "\n",
            " [[0.45038594 0.37079802 0.92676499]\n",
            "  [0.64386512 0.82276161 0.4434142 ]\n",
            "  [0.22723872 0.55458479 0.06381726]]\n",
            "\n",
            " [[0.82763117 0.6316644  0.75808774]\n",
            "  [0.35452597 0.97069802 0.89312112]\n",
            "  [0.7783835  0.19463871 0.466721  ]]]\n"
          ]
        }
      ]
    },
    {
      "cell_type": "code",
      "source": [
        "#9\n",
        "\n",
        "aleatorios = np.random.default_rng(42)\n",
        "matriz = aleatorios.random((10, 10))\n",
        "\n",
        "print(\"O mínimo desta matriz é:\", matriz.min())\n",
        "print(\"O máximo desta matriz é:\", matriz.max())"
      ],
      "metadata": {
        "colab": {
          "base_uri": "https://localhost:8080/"
        },
        "id": "mpBEll9PPsK9",
        "outputId": "e2046ad6-7eb4-481d-e11a-c95d52c450e3"
      },
      "execution_count": 10,
      "outputs": [
        {
          "output_type": "stream",
          "name": "stdout",
          "text": [
            "O mínimo desta matriz é: 0.007362269751005512\n",
            "O máximo desta matriz é: 0.9756223516367559\n"
          ]
        }
      ]
    },
    {
      "cell_type": "code",
      "source": [
        "#10\n",
        "\n",
        "valor = np.array([1, 2, 3, 4, 5], dtype=float)\n",
        "\n",
        "valor_normalizado = (valor - valor.mean()) / valor.std()\n",
        "\n",
        "print(valor_normalizado)"
      ],
      "metadata": {
        "colab": {
          "base_uri": "https://localhost:8080/"
        },
        "id": "s6KFVMd5PsNK",
        "outputId": "0d60ad4c-4bc4-4436-90d4-789cfed53d42"
      },
      "execution_count": 11,
      "outputs": [
        {
          "output_type": "stream",
          "name": "stdout",
          "text": [
            "[-1.41421356 -0.70710678  0.          0.70710678  1.41421356]\n"
          ]
        }
      ]
    },
    {
      "cell_type": "code",
      "source": [
        "#11\n",
        "\n",
        "array = np.array([1, 2, 3], dtype=np.int32)\n",
        "\n",
        "array_float_32 = array.astype(np.float32)\n",
        "array_i64 = array_float_32.astype(np.int64)\n",
        "\n",
        "print(array.dtype, array_float_32.dtype, array_i64.dtype)"
      ],
      "metadata": {
        "colab": {
          "base_uri": "https://localhost:8080/"
        },
        "id": "LeCxyNcfP5FI",
        "outputId": "e0882d37-bd32-4334-9d64-04d055faa133"
      },
      "execution_count": 12,
      "outputs": [
        {
          "output_type": "stream",
          "name": "stdout",
          "text": [
            "int32 float32 int64\n"
          ]
        }
      ]
    },
    {
      "cell_type": "code",
      "source": [
        "#12\n",
        "\n",
        "limite = np.array([2, 5, 7, 1, 9])\n",
        "limite_clipped = np.clip(limite, 0, 5)\n",
        "\n",
        "print(limite_clipped)"
      ],
      "metadata": {
        "colab": {
          "base_uri": "https://localhost:8080/"
        },
        "id": "eAhCrEAOP5Hm",
        "outputId": "f6a66b0e-085e-4f25-90eb-4a3bbd090af3"
      },
      "execution_count": 13,
      "outputs": [
        {
          "output_type": "stream",
          "name": "stdout",
          "text": [
            "[2 5 5 1 5]\n"
          ]
        }
      ]
    },
    {
      "cell_type": "code",
      "source": [
        "#13\n",
        "\n",
        "valor = np.arange(10)\n",
        "valor_invertido = np.flip(valor)\n",
        "\n",
        "print(valor_invertido)"
      ],
      "metadata": {
        "colab": {
          "base_uri": "https://localhost:8080/"
        },
        "id": "OOxy3NLmP5ME",
        "outputId": "7839a664-5617-4b88-ef1f-3edf8d2d1246"
      },
      "execution_count": 14,
      "outputs": [
        {
          "output_type": "stream",
          "name": "stdout",
          "text": [
            "[9 8 7 6 5 4 3 2 1 0]\n"
          ]
        }
      ]
    },
    {
      "cell_type": "code",
      "source": [
        "#14\n",
        "\n",
        "a = np.array([1, 2, 3])\n",
        "b = np.array([4, 5, 6])\n",
        "\n",
        "h = np.hstack((a, b))\n",
        "v = np.vstack((a, b))\n",
        "\n",
        "print(\"A horizontal é:\", h)\n",
        "print(\"A vertical é:\\n\", v)"
      ],
      "metadata": {
        "colab": {
          "base_uri": "https://localhost:8080/"
        },
        "id": "FvWjBA2XP5OR",
        "outputId": "7da96b07-949c-4a3d-b960-6abae5118f3f"
      },
      "execution_count": 15,
      "outputs": [
        {
          "output_type": "stream",
          "name": "stdout",
          "text": [
            "A horizontal é: [1 2 3 4 5 6]\n",
            "A vertical é:\n",
            " [[1 2 3]\n",
            " [4 5 6]]\n"
          ]
        }
      ]
    },
    {
      "cell_type": "code",
      "source": [
        "#15\n",
        "\n",
        "matriz = np.diag(np.full(4, 5))\n",
        "\n",
        "print(matriz)"
      ],
      "metadata": {
        "colab": {
          "base_uri": "https://localhost:8080/"
        },
        "id": "eSrQCrNJP5QW",
        "outputId": "517bd3b4-69a0-440b-d201-0c337cd54b95"
      },
      "execution_count": 16,
      "outputs": [
        {
          "output_type": "stream",
          "name": "stdout",
          "text": [
            "[[5 0 0 0]\n",
            " [0 5 0 0]\n",
            " [0 0 5 0]\n",
            " [0 0 0 5]]\n"
          ]
        }
      ]
    },
    {
      "cell_type": "code",
      "source": [
        "#16\n",
        "\n",
        "Matriz = np.arange(12).reshape(3, 4)\n",
        "\n",
        "total_linhas = Matriz.sum(axis=1)\n",
        "total_colunas = Matriz.sum(axis=0)\n",
        "\n",
        "print(\"O total de linhas é:\", total_linhas)\n",
        "print(\"O total de colunas é:\", total_colunas)"
      ],
      "metadata": {
        "colab": {
          "base_uri": "https://localhost:8080/"
        },
        "id": "hm64-0jxP5Sr",
        "outputId": "c77a81e7-d98e-44c3-ee83-b16c7f2c63d1"
      },
      "execution_count": 17,
      "outputs": [
        {
          "output_type": "stream",
          "name": "stdout",
          "text": [
            "O total de linhas é: [ 6 22 38]\n",
            "O total de colunas é: [12 15 18 21]\n"
          ]
        }
      ]
    },
    {
      "cell_type": "code",
      "source": [
        "#17\n",
        "\n",
        "aleatorios = np.random.default_rng(42)\n",
        "valores = aleatorios.integers(0, 10, size=100)\n",
        "\n",
        "frequencias = np.bincount(valores, minlength=10)\n",
        "\n",
        "print(\"As frequências são:\", frequencias)"
      ],
      "metadata": {
        "colab": {
          "base_uri": "https://localhost:8080/"
        },
        "id": "n5TMvaknP5Up",
        "outputId": "9bfc6bba-6ee9-4184-94b0-43cc34e4e2c7"
      },
      "execution_count": 18,
      "outputs": [
        {
          "output_type": "stream",
          "name": "stdout",
          "text": [
            "As frequências são: [ 9  9  6  9 15  7 11 15 12  7]\n"
          ]
        }
      ]
    },
    {
      "cell_type": "code",
      "source": [
        "#18\n",
        "\n",
        "valor = np.arange(20)\n",
        "resultado = valor[1::3]\n",
        "\n",
        "print(resultado)"
      ],
      "metadata": {
        "colab": {
          "base_uri": "https://localhost:8080/"
        },
        "id": "vDg4al9DP5W_",
        "outputId": "59c630c8-c07d-403d-d356-a50e833bf796"
      },
      "execution_count": 19,
      "outputs": [
        {
          "output_type": "stream",
          "name": "stdout",
          "text": [
            "[ 1  4  7 10 13 16 19]\n"
          ]
        }
      ]
    },
    {
      "cell_type": "code",
      "source": [
        "#19\n",
        "\n",
        "valor = np.arange(20)\n",
        "mascara_booleana = (valor % 2 == 0)\n",
        "pares = valor[mascara_booleana]\n",
        "\n",
        "print(\"A máscara é:\", mascara_booleana)\n",
        "print(\"Os pares são:\", pares)"
      ],
      "metadata": {
        "colab": {
          "base_uri": "https://localhost:8080/"
        },
        "id": "jHoCT7WgP5ZG",
        "outputId": "a2a3c866-6b71-4c7e-9d4d-942dbe08fe20"
      },
      "execution_count": 20,
      "outputs": [
        {
          "output_type": "stream",
          "name": "stdout",
          "text": [
            "A máscara é: [ True False  True False  True False  True False  True False  True False\n",
            "  True False  True False  True False  True False]\n",
            "Os pares são: [ 0  2  4  6  8 10 12 14 16 18]\n"
          ]
        }
      ]
    },
    {
      "cell_type": "code",
      "source": [
        "#20\n",
        "\n",
        "lista = [[1, 2, 3], [4, 5, 6]]\n",
        "Matriz = np.array(lista)\n",
        "\n",
        "print(\"O array é:\\n\", Matriz)\n",
        "print(\"O shape é:\", Matriz.shape)\n",
        "print(\"O dtype é:\", Matriz.dtype)"
      ],
      "metadata": {
        "colab": {
          "base_uri": "https://localhost:8080/"
        },
        "id": "YGLqig1NP5bK",
        "outputId": "ee48bd90-7c6b-45ac-c0c9-9ab346d539ea"
      },
      "execution_count": 21,
      "outputs": [
        {
          "output_type": "stream",
          "name": "stdout",
          "text": [
            "O array é:\n",
            " [[1 2 3]\n",
            " [4 5 6]]\n",
            "O shape é: (2, 3)\n",
            "O dtype é: int64\n"
          ]
        }
      ]
    },
    {
      "cell_type": "code",
      "source": [
        "#21\n",
        "\n",
        "datas = np.arange('2025-01-01', '2025-01-08', dtype='datetime64[D]')\n",
        "\n",
        "print(datas)"
      ],
      "metadata": {
        "colab": {
          "base_uri": "https://localhost:8080/"
        },
        "id": "2C3DrYIsQc0g",
        "outputId": "f63c3037-3eca-408b-9f15-4cb1da0ed8a5"
      },
      "execution_count": 22,
      "outputs": [
        {
          "output_type": "stream",
          "name": "stdout",
          "text": [
            "['2025-01-01' '2025-01-02' '2025-01-03' '2025-01-04' '2025-01-05'\n",
            " '2025-01-06' '2025-01-07']\n"
          ]
        }
      ]
    },
    {
      "cell_type": "code",
      "source": [
        "#22\n",
        "\n",
        "Matriz = np.array([[1., 2., 3.], [4., 5., 6.]])\n",
        "\n",
        "Matriz_centralizada = Matriz - Matriz.mean(axis=0)\n",
        "\n",
        "print(Matriz_centralizada)"
      ],
      "metadata": {
        "colab": {
          "base_uri": "https://localhost:8080/"
        },
        "id": "QF6tTdb9Qc3g",
        "outputId": "9a11070a-333f-4c9a-e701-bc79a98bcb9b"
      },
      "execution_count": 23,
      "outputs": [
        {
          "output_type": "stream",
          "name": "stdout",
          "text": [
            "[[-1.5 -1.5 -1.5]\n",
            " [ 1.5  1.5  1.5]]\n"
          ]
        }
      ]
    },
    {
      "cell_type": "code",
      "source": [
        "#23\n",
        "\n",
        "a = np.array([1, 2, 3])\n",
        "b = np.array([4, 5, 6])\n",
        "\n",
        "elementwise = a * b\n",
        "escalar = np.dot(a, b)\n",
        "\n",
        "print(\"O produto elemento-a-elemento é:\", elementwise)\n",
        "print(\"O produto escalar é:\", escalar)"
      ],
      "metadata": {
        "colab": {
          "base_uri": "https://localhost:8080/"
        },
        "id": "HoV2gdFJQc5o",
        "outputId": "c421ae1b-b82b-46c8-c0d9-0e6505d638a9"
      },
      "execution_count": 24,
      "outputs": [
        {
          "output_type": "stream",
          "name": "stdout",
          "text": [
            "O produto elemento-a-elemento é: [ 4 10 18]\n",
            "O produto escalar é: 32\n"
          ]
        }
      ]
    },
    {
      "cell_type": "code",
      "source": [
        "#24\n",
        "\n",
        "Matriz = np.arange(12).reshape(3, 4)\n",
        "\n",
        "Matriz[:, [0, 2]] = Matriz[:, [2, 0]]\n",
        "\n",
        "print(Matriz)"
      ],
      "metadata": {
        "colab": {
          "base_uri": "https://localhost:8080/"
        },
        "id": "7WujX4gkQc8B",
        "outputId": "fc908466-2a5f-4ce0-fef3-7e866fe3b707"
      },
      "execution_count": 25,
      "outputs": [
        {
          "output_type": "stream",
          "name": "stdout",
          "text": [
            "[[ 2  1  0  3]\n",
            " [ 6  5  4  7]\n",
            " [10  9  8 11]]\n"
          ]
        }
      ]
    },
    {
      "cell_type": "code",
      "source": [
        "#25\n",
        "\n",
        "a = np.array([[1, 2], [3, 4]])\n",
        "b_flat = a.flatten()\n",
        "b_ravel = a.ravel()\n",
        "b_ravel[0] = 99\n",
        "print(a)\n",
        "print(\"\\n\", b_flat)"
      ],
      "metadata": {
        "colab": {
          "base_uri": "https://localhost:8080/"
        },
        "id": "mmCtgrLbQc-V",
        "outputId": "4788307c-19d1-4a65-a028-753fc3d8e46d"
      },
      "execution_count": 26,
      "outputs": [
        {
          "output_type": "stream",
          "name": "stdout",
          "text": [
            "[[99  2]\n",
            " [ 3  4]]\n",
            "\n",
            " [1 2 3 4]\n"
          ]
        }
      ]
    },
    {
      "cell_type": "code",
      "source": [
        "#26\n",
        "\n",
        "tabuleiro = np.indices((8, 8)).sum(axis=0) % 2\n",
        "\n",
        "print(tabuleiro)"
      ],
      "metadata": {
        "colab": {
          "base_uri": "https://localhost:8080/"
        },
        "id": "SwKqg3qPQdAs",
        "outputId": "0d5a9abe-7fd9-4d6f-a9f9-e57c564e2359"
      },
      "execution_count": 27,
      "outputs": [
        {
          "output_type": "stream",
          "name": "stdout",
          "text": [
            "[[0 1 0 1 0 1 0 1]\n",
            " [1 0 1 0 1 0 1 0]\n",
            " [0 1 0 1 0 1 0 1]\n",
            " [1 0 1 0 1 0 1 0]\n",
            " [0 1 0 1 0 1 0 1]\n",
            " [1 0 1 0 1 0 1 0]\n",
            " [0 1 0 1 0 1 0 1]\n",
            " [1 0 1 0 1 0 1 0]]\n"
          ]
        }
      ]
    },
    {
      "cell_type": "code",
      "source": [
        "#27\n",
        "\n",
        "valor = np.arange(-5, 6)\n",
        "resultado = np.where(valor < 0, 0, valor)\n",
        "\n",
        "print(resultado)"
      ],
      "metadata": {
        "colab": {
          "base_uri": "https://localhost:8080/"
        },
        "id": "3nYOseBpQdDG",
        "outputId": "956ef58e-5a3a-4c32-82ab-a0d8cb9d0cea"
      },
      "execution_count": 28,
      "outputs": [
        {
          "output_type": "stream",
          "name": "stdout",
          "text": [
            "[0 0 0 0 0 0 1 2 3 4 5]\n"
          ]
        }
      ]
    },
    {
      "cell_type": "code",
      "source": [
        "#28\n",
        "\n",
        "rng = np.random.default_rng(0)\n",
        "data = rng.random(1_000_000)\n",
        "mean = data.mean()\n",
        "error = abs(mean - 0.5)\n",
        "print(\"Média:\", mean, \"Erro absoluto:\", error)"
      ],
      "metadata": {
        "colab": {
          "base_uri": "https://localhost:8080/"
        },
        "id": "ZDvqi4Y8QdFV",
        "outputId": "4b3f47eb-0fee-4f90-9409-a1e9da9c8670"
      },
      "execution_count": 29,
      "outputs": [
        {
          "output_type": "stream",
          "name": "stdout",
          "text": [
            "Média: 0.5001592564636843 Erro absoluto: 0.00015925646368430968\n"
          ]
        }
      ]
    },
    {
      "cell_type": "code",
      "source": [
        "#29\n",
        "\n",
        "a = np.array([1, 2, 3])[:, None]\n",
        "b = np.array([10, 20, 30, 40])\n",
        "\n",
        "somas = a + b\n",
        "\n",
        "print(somas)"
      ],
      "metadata": {
        "colab": {
          "base_uri": "https://localhost:8080/"
        },
        "id": "IDpvnhksQdHm",
        "outputId": "13727c5a-fce7-40bc-a31d-162ebe154399"
      },
      "execution_count": 30,
      "outputs": [
        {
          "output_type": "stream",
          "name": "stdout",
          "text": [
            "[[11 21 31 41]\n",
            " [12 22 32 42]\n",
            " [13 23 33 43]]\n"
          ]
        }
      ]
    },
    {
      "cell_type": "code",
      "source": [
        "#30\n",
        "from numpy.lib.stride_tricks import sliding_window_view\n",
        "\n",
        "s = np.array([1, 2, 3, 4, 5])\n",
        "k = np.array([1, 0, -1])\n",
        "sw = sliding_window_view(s, k.size)\n",
        "conv_valid = np.sum(sw * np.flip(k), axis=1)\n",
        "print(\"Convolução (valid):\", conv_valid)"
      ],
      "metadata": {
        "colab": {
          "base_uri": "https://localhost:8080/"
        },
        "id": "OyfC6AlqQdNP",
        "outputId": "7335b7d5-85ba-445c-8a31-a0ea53f632d6"
      },
      "execution_count": 31,
      "outputs": [
        {
          "output_type": "stream",
          "name": "stdout",
          "text": [
            "Convolução (valid): [2 2 2]\n"
          ]
        }
      ]
    },
    {
      "cell_type": "code",
      "source": [
        "#31\n",
        "\n",
        "A = rng.normal(size=(5,4))\n",
        "A_min = A.min(axis=0)\n",
        "A_max = A.max(axis=0)\n",
        "range_ = np.where(A_max != A_min, A_max - A_min, 1)\n",
        "A_norm = (A - A_min) / range_\n",
        "print(\"Original:\\n\", A)\n",
        "print(\"Normalizado:\\n\", A_norm)"
      ],
      "metadata": {
        "colab": {
          "base_uri": "https://localhost:8080/"
        },
        "id": "4hBwZf2tQ2Jp",
        "outputId": "6ca7f09d-9e6d-42a7-c3f1-f4610efd6701"
      },
      "execution_count": 32,
      "outputs": [
        {
          "output_type": "stream",
          "name": "stdout",
          "text": [
            "Original:\n",
            " [[ 1.49094907  0.94435386 -0.02251395 -0.13571596]\n",
            " [-0.95963055 -0.02685518  1.11267343  0.89208528]\n",
            " [ 0.52179943 -0.96786357  0.69747152 -1.57055269]\n",
            " [-0.4979807   0.66268666 -1.2872589  -0.4442346 ]\n",
            " [ 0.4030978  -0.88356851 -0.67175858  0.08502541]]\n",
            "Normalizado:\n",
            " [[1.         1.         0.52699192 0.58264217]\n",
            " [0.         0.49210324 1.         1.        ]\n",
            " [0.60452228 0.         0.82699433 0.        ]\n",
            " [0.18838394 0.85270127 0.         0.45736243]\n",
            " [0.5560841  0.04408236 0.2564657  0.67227831]]\n"
          ]
        }
      ]
    },
    {
      "cell_type": "code",
      "source": [
        "#32\n",
        "\n",
        "Matriz = np.array([[3, 9], [1, 4], [2, 5]])\n",
        "\n",
        "Matriz_ordenada = Matriz[Matriz[:, 1].argsort()]\n",
        "\n",
        "print(Matriz_ordenada)"
      ],
      "metadata": {
        "colab": {
          "base_uri": "https://localhost:8080/"
        },
        "id": "Wv5cSApOQ2MP",
        "outputId": "ac380a89-1574-428f-df3b-9067a9843148"
      },
      "execution_count": 33,
      "outputs": [
        {
          "output_type": "stream",
          "name": "stdout",
          "text": [
            "[[1 4]\n",
            " [2 5]\n",
            " [3 9]]\n"
          ]
        }
      ]
    },
    {
      "cell_type": "code",
      "source": [
        "#33\n",
        "\n",
        "x = np.array([3,1,2,3,2,3,1])\n",
        "uniq, first_idx, counts = np.unique(x, return_index=True, return_counts=True)\n",
        "print(\"Únicos:\", uniq)\n",
        "print(\"Primeira ocorrência:\", first_idx)\n",
        "print(\"Contagens:\", counts)"
      ],
      "metadata": {
        "colab": {
          "base_uri": "https://localhost:8080/"
        },
        "id": "LxxDLF7GQ2O7",
        "outputId": "e3ac050c-4316-4ff1-ced5-47fddb587d76"
      },
      "execution_count": 34,
      "outputs": [
        {
          "output_type": "stream",
          "name": "stdout",
          "text": [
            "Únicos: [1 2 3]\n",
            "Primeira ocorrência: [1 2 0]\n",
            "Contagens: [2 2 3]\n"
          ]
        }
      ]
    },
    {
      "cell_type": "code",
      "source": [
        "#34\n",
        "\n",
        "P = np.array([[0,0],[3,4],[6,8]])\n",
        "diff = P[:, None, :] - P[None, :, :]\n",
        "dist = np.sqrt(np.sum(diff**2, axis=-1))\n",
        "print(dist)"
      ],
      "metadata": {
        "colab": {
          "base_uri": "https://localhost:8080/"
        },
        "id": "tu524K-dQ2RZ",
        "outputId": "6978027e-32ce-46bc-96ac-1a640097a751"
      },
      "execution_count": 35,
      "outputs": [
        {
          "output_type": "stream",
          "name": "stdout",
          "text": [
            "[[ 0.  5. 10.]\n",
            " [ 5.  0.  5.]\n",
            " [10.  5.  0.]]\n"
          ]
        }
      ]
    },
    {
      "cell_type": "code",
      "source": [
        "#35\n",
        "\n",
        "aleatorios = np.random.default_rng(42)\n",
        "Aleatorio = aleatorios.standard_normal((1000, 3))\n",
        "\n",
        "covariancia = np.cov(Aleatorio, rowvar=False)\n",
        "correlacao = np.corrcoef(Aleatorio, rowvar=False)\n",
        "\n",
        "print(\"A covariância é:\\n\", covariancia)\n",
        "print(\"A correlação é:\\n\", correlacao)"
      ],
      "metadata": {
        "colab": {
          "base_uri": "https://localhost:8080/"
        },
        "id": "O97kil3ZQ2Tk",
        "outputId": "710eb0f2-a879-49ed-a824-b5c6f11b77ad"
      },
      "execution_count": 36,
      "outputs": [
        {
          "output_type": "stream",
          "name": "stdout",
          "text": [
            "A covariância é:\n",
            " [[ 1.02807939  0.003405   -0.03028368]\n",
            " [ 0.003405    0.99691425  0.06347086]\n",
            " [-0.03028368  0.06347086  1.0227042 ]]\n",
            "A correlação é:\n",
            " [[ 1.          0.00336338 -0.02953387]\n",
            " [ 0.00336338  1.          0.06285943]\n",
            " [-0.02953387  0.06285943  1.        ]]\n"
          ]
        }
      ]
    },
    {
      "cell_type": "code",
      "source": [
        "#36\n",
        "\n",
        "y = np.array([2, 0, 1, 2])\n",
        "numero_classes = y.max() + 1\n",
        "\n",
        "onehot = np.eye(numero_classes)[y]\n",
        "\n",
        "print(onehot)"
      ],
      "metadata": {
        "colab": {
          "base_uri": "https://localhost:8080/"
        },
        "id": "dKDKEUTWQ2Vz",
        "outputId": "48fed744-fea2-48a5-874b-6cb1092fa60a"
      },
      "execution_count": 37,
      "outputs": [
        {
          "output_type": "stream",
          "name": "stdout",
          "text": [
            "[[0. 0. 1.]\n",
            " [1. 0. 0.]\n",
            " [0. 1. 0.]\n",
            " [0. 0. 1.]]\n"
          ]
        }
      ]
    },
    {
      "cell_type": "code",
      "source": [
        "#37"
      ],
      "metadata": {
        "id": "Wlsft5i5Q2YQ"
      },
      "execution_count": 38,
      "outputs": []
    },
    {
      "cell_type": "code",
      "source": [
        "#38"
      ],
      "metadata": {
        "id": "W2JEddfHQ2a5"
      },
      "execution_count": 39,
      "outputs": []
    },
    {
      "cell_type": "code",
      "source": [
        "#39"
      ],
      "metadata": {
        "id": "j-yN1bUvRD5P"
      },
      "execution_count": 40,
      "outputs": []
    },
    {
      "cell_type": "code",
      "source": [
        "#40"
      ],
      "metadata": {
        "id": "coE9B5V7RFWc"
      },
      "execution_count": 41,
      "outputs": []
    },
    {
      "cell_type": "code",
      "source": [
        "#41"
      ],
      "metadata": {
        "id": "WfXIB7hERGtM"
      },
      "execution_count": 42,
      "outputs": []
    },
    {
      "cell_type": "code",
      "source": [
        "#42"
      ],
      "metadata": {
        "id": "iTLOvDEKRGyJ"
      },
      "execution_count": 43,
      "outputs": []
    }
  ]
}